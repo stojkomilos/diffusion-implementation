{
 "cells": [
  {
   "cell_type": "code",
   "execution_count": 1,
   "metadata": {},
   "outputs": [],
   "source": [
    "import torch\n",
    "import torch.nn as nn\n",
    "import numpy as np\n",
    "import torch.nn.functional as F\n",
    "from torch.utils.data import DataLoader, Dataset\n"
   ]
  },
  {
   "cell_type": "code",
   "execution_count": 2,
   "metadata": {},
   "outputs": [
    {
     "name": "stdout",
     "output_type": "stream",
     "text": [
      "cuda\n"
     ]
    }
   ],
   "source": [
    "get_device = lambda : \"cuda\" if torch.cuda.is_available() else \"cpu\"\n",
    "print(get_device())"
   ]
  },
  {
   "cell_type": "code",
   "execution_count": 12,
   "metadata": {},
   "outputs": [],
   "source": [
    "import torch\n",
    "import torch.nn as nn\n",
    "import torch.nn.functional as F\n",
    "\n",
    "def compute_num_groups(num_channels, max_groups=32):\n",
    "    for num_groups in range(max_groups, 0, -1):\n",
    "        if num_channels % num_groups == 0:\n",
    "            return num_groups\n",
    "    return 1\n",
    "\n",
    "\n",
    "class TimeEmbedding(nn.Module):\n",
    "    def __init__(self, d_model):\n",
    "        super(TimeEmbedding, self).__init__()\n",
    "        self.d_model = d_model\n",
    "\n",
    "    def forward(self, t):\n",
    "        return torch.stack([torch.sin(t / (10000 ** (2 * i / self.d_model))) if i % 2 == 0 else torch.cos(t / (10000 ** (2 * i / self.d_model))) for i in range(self.d_model)], dim=-1)\n",
    "\n",
    "\n",
    "def compute_num_groups(num_channels, divisor=8):\n",
    "    num_groups = max(1, num_channels // divisor)\n",
    "    return num_groups\n",
    "\n",
    "\n",
    "class ResNetBlock(nn.Module):\n",
    "    def __init__(self, in_channels, out_channels, time_emb_dim):\n",
    "        super(ResNetBlock, self).__init__()\n",
    "        self.time_emb_lin = nn.Linear(time_emb_dim, out_channels)\n",
    "        self.norm1 = nn.GroupNorm(compute_num_groups(in_channels), in_channels)\n",
    "        self.conv1 = nn.Conv2d(in_channels, out_channels, kernel_size=3, padding=1)\n",
    "        self.norm2 = nn.GroupNorm(compute_num_groups(out_channels), out_channels)\n",
    "        self.conv2 = nn.Conv2d(out_channels, out_channels, kernel_size=3, padding=1)\n",
    "        \n",
    "        if in_channels != out_channels:\n",
    "            self.res_conv = nn.Conv2d(in_channels, out_channels, kernel_size=1)\n",
    "        else:\n",
    "            self.res_conv = nn.Identity()\n",
    "    \n",
    "    def forward(self, x, t):\n",
    "        time_emb = self.time_emb_lin(t).unsqueeze(-1).unsqueeze(-1)\n",
    "        h = self.norm1(x)\n",
    "        h = F.silu(h)\n",
    "        h = self.conv1(h)\n",
    "        h = h + time_emb\n",
    "        h = self.norm2(h)\n",
    "        h = F.silu(h)\n",
    "        h = self.conv2(h)\n",
    "\n",
    "        return h"
   ]
  },
  {
   "cell_type": "code",
   "execution_count": 13,
   "metadata": {},
   "outputs": [],
   "source": [
    "class AttentionBlock(nn.Module):\n",
    "    def __init__(self, in_channels):\n",
    "        super(AttentionBlock, self).__init__()\n",
    "        self.norm = nn.BatchNorm2d(in_channels)\n",
    "        self.qkv = nn.Conv2d(in_channels, in_channels * 3, kernel_size=1)\n",
    "        self.attn = nn.MultiheadAttention(embed_dim=in_channels, num_heads=1, batch_first=True)\n",
    "        self.proj_out = nn.Conv2d(in_channels, in_channels, kernel_size=1)\n",
    "\n",
    "    def forward(self, x):\n",
    "        batch_size, channels, height, width = x.shape\n",
    "        norm_x = self.norm(x)\n",
    "        \n",
    "        qkv = self.qkv(norm_x)\n",
    "        q, k, v = qkv.chunk(3, dim=1)\n",
    "\n",
    "        q = q.reshape(batch_size, channels, height * width).permute(0, 2, 1)\n",
    "        k = k.reshape(batch_size, channels, height * width).permute(0, 2, 1)\n",
    "        v = v.reshape(batch_size, channels, height * width).permute(0, 2, 1)\n",
    "\n",
    "        attn_output, _ = self.attn(q, k, v)\n",
    "        attn_output = attn_output.permute(0, 2, 1).reshape(batch_size, channels, height, width)\n",
    "\n",
    "        proj_output = self.proj_out(attn_output)\n",
    "\n",
    "        return proj_output"
   ]
  },
  {
   "cell_type": "code",
   "execution_count": 14,
   "metadata": {},
   "outputs": [],
   "source": [
    "\n",
    "class UNet(nn.Module):\n",
    "    def __init__(self, in_channels, out_channels, time_emb_dim):\n",
    "        super(UNet, self).__init__()\n",
    "        self.time_emb = TimeEmbedding(time_emb_dim)\n",
    "        \n",
    "        self.enc1 = ResNetBlock(in_channels, 64, time_emb_dim)\n",
    "        self.enc2 = ResNetBlock(64, 128, time_emb_dim)\n",
    "        self.enc3 = ResNetBlock(128, 256, time_emb_dim)\n",
    "        \n",
    "        self.attn = AttentionBlock(128)\n",
    "        \n",
    "        self.bottleneck = ResNetBlock(256, 512, time_emb_dim)\n",
    "        \n",
    "        self.dec3 = ResNetBlock(512, 256, time_emb_dim)\n",
    "        self.dec2 = ResNetBlock(256, 128, time_emb_dim)\n",
    "        self.dec1 = ResNetBlock(128, 64, time_emb_dim)\n",
    "        \n",
    "        self.up3 = nn.ConvTranspose2d(512, 256, kernel_size=2, stride=2)\n",
    "        self.up2 = nn.ConvTranspose2d(256, 128, kernel_size=2, stride=2)\n",
    "        self.up1 = nn.ConvTranspose2d(128, 64, kernel_size=2, stride=2)\n",
    "        \n",
    "        self.final_conv = nn.Conv2d(64, out_channels, kernel_size=1)\n",
    "        \n",
    "    def forward(self, x, t):\n",
    "        t_emb = self.time_emb(t)\n",
    "        \n",
    "        enc1_out = self.enc1(x, t_emb)\n",
    "        enc2_out = self.enc2(F.max_pool2d(enc1_out, 2), t_emb)\n",
    "        enc3_out = self.enc3(F.max_pool2d(enc2_out, 2), t_emb)\n",
    "        \n",
    "        attn_out = self.attn(enc2_out)\n",
    "        \n",
    "        bottleneck_out = self.bottleneck(F.max_pool2d(enc3_out, 2), t_emb)\n",
    "        \n",
    "        up3_out = self.up3(bottleneck_out)\n",
    "        dec3_out = self.dec3(torch.cat([up3_out, enc3_out], dim=1), t_emb)\n",
    "        \n",
    "        up2_out = self.up2(dec3_out)\n",
    "        dec2_out = self.dec2(torch.cat([up2_out, attn_out], dim=1), t_emb)\n",
    "        \n",
    "        up1_out = self.up1(dec2_out)\n",
    "        dec1_out = self.dec1(torch.cat([up1_out, enc1_out], dim=1), t_emb)\n",
    "        \n",
    "        out = self.final_conv(dec1_out)\n",
    "        \n",
    "        return out"
   ]
  },
  {
   "cell_type": "code",
   "execution_count": 15,
   "metadata": {},
   "outputs": [
    {
     "data": {
      "text/plain": [
       "torch.Size([1, 1, 16, 16])"
      ]
     },
     "execution_count": 15,
     "metadata": {},
     "output_type": "execute_result"
    }
   ],
   "source": [
    "# Example usage:\n",
    "model = UNet(in_channels=1, out_channels=1, time_emb_dim=128)\n",
    "x = torch.randn(1, 1, 16, 16)\n",
    "t = torch.tensor([10.0])\n",
    "output = model(x, t)\n",
    "\n",
    "output.shape"
   ]
  },
  {
   "cell_type": "code",
   "execution_count": 7,
   "metadata": {},
   "outputs": [
    {
     "data": {
      "text/plain": [
       "8361219"
      ]
     },
     "execution_count": 7,
     "metadata": {},
     "output_type": "execute_result"
    }
   ],
   "source": [
    "sum(p.numel() for p in model.parameters() if p.requires_grad)"
   ]
  }
 ],
 "metadata": {
  "kernelspec": {
   "display_name": "venv",
   "language": "python",
   "name": "python3"
  },
  "language_info": {
   "codemirror_mode": {
    "name": "ipython",
    "version": 3
   },
   "file_extension": ".py",
   "mimetype": "text/x-python",
   "name": "python",
   "nbconvert_exporter": "python",
   "pygments_lexer": "ipython3",
   "version": "3.9.6"
  }
 },
 "nbformat": 4,
 "nbformat_minor": 2
}
